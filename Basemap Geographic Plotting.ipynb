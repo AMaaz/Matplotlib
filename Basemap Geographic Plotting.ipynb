{
 "cells": [
  {
   "cell_type": "code",
   "execution_count": 1,
   "metadata": {
    "collapsed": false
   },
   "outputs": [
    {
     "ename": "ImportError",
     "evalue": "No module named 'mpl_toolkits.basemap'",
     "output_type": "error",
     "traceback": [
      "\u001b[0;31m---------------------------------------------------------------------------\u001b[0m",
      "\u001b[0;31mImportError\u001b[0m                               Traceback (most recent call last)",
      "\u001b[0;32m<ipython-input-1-e8a20ca25d2f>\u001b[0m in \u001b[0;36m<module>\u001b[0;34m()\u001b[0m\n\u001b[0;32m----> 1\u001b[0;31m \u001b[1;32mfrom\u001b[0m \u001b[0mmpl_toolkits\u001b[0m\u001b[1;33m.\u001b[0m\u001b[0mbasemap\u001b[0m \u001b[1;32mimport\u001b[0m \u001b[0mBasemap\u001b[0m\u001b[1;33m\u001b[0m\u001b[0m\n\u001b[0m\u001b[1;32m      2\u001b[0m \u001b[1;32mimport\u001b[0m \u001b[0mmatplotlib\u001b[0m\u001b[1;33m.\u001b[0m\u001b[0mpyplot\u001b[0m \u001b[1;32mas\u001b[0m \u001b[0mplt\u001b[0m\u001b[1;33m\u001b[0m\u001b[0m\n\u001b[1;32m      3\u001b[0m \u001b[1;33m\u001b[0m\u001b[0m\n\u001b[1;32m      4\u001b[0m \u001b[0mm\u001b[0m \u001b[1;33m=\u001b[0m \u001b[0mBasemap\u001b[0m\u001b[1;33m(\u001b[0m\u001b[0mprojection\u001b[0m\u001b[1;33m=\u001b[0m\u001b[1;34m'mill'\u001b[0m\u001b[1;33m)\u001b[0m\u001b[1;33m\u001b[0m\u001b[0m\n\u001b[1;32m      5\u001b[0m \u001b[0mm\u001b[0m\u001b[1;33m.\u001b[0m\u001b[0mdrawcoastlines\u001b[0m\u001b[1;33m(\u001b[0m\u001b[1;33m)\u001b[0m\u001b[1;33m\u001b[0m\u001b[0m\n",
      "\u001b[0;31mImportError\u001b[0m: No module named 'mpl_toolkits.basemap'"
     ]
    }
   ],
   "source": [
    "#https://pythonprogramming.net/geographic-basemap-plotting-matplotlib-tutorial/\n",
    "#use abve link to install the softwere and listen it sinstructions\n",
    "from mpl_toolkits.basemap import Basemap\n",
    "import matplotlib.pyplot as plt\n",
    "\n",
    "#https://sourceforge.net/projects/matplotlib/files/matplotlib-toolkits/basemap-1.0.7/basemap-1.0.7.tar.gz/download\n",
    "\n",
    "m = Basemap(projection='mill')\n",
    "m.drawcoastlines()\n",
    "plt.show()"
   ]
  },
  {
   "cell_type": "code",
   "execution_count": null,
   "metadata": {
    "collapsed": true
   },
   "outputs": [],
   "source": [
    "from mpl_toolkits.basemap import Basemap\n",
    "import matplotlib.pyplot as plt\n",
    "\n",
    "m = Basemap(projection='mill',\n",
    "            llcrnrlat = -40, #[south]\n",
    "            llcrnrlon = -40, #[west]\n",
    "            urcrnrlat = 50, #[North]\n",
    "            urcrnrlon = 75, #[ East]\n",
    "            resolution='l')) #[l mean lower part]\n",
    "m.drawcoastlines()\n",
    "plt.show()"
   ]
  },
  {
   "cell_type": "code",
   "execution_count": null,
   "metadata": {
    "collapsed": true
   },
   "outputs": [],
   "source": [
    "from mpl_toolkits.basemap import Basemap\n",
    "import matplotlib.pyplot as plt\n",
    "\n",
    "m = Basemap(projection='mill',\n",
    "            llcrnrlat = -90,\n",
    "            llcrnrlon = -180,\n",
    "            urcrnrlat = 90,\n",
    "            urcrnrlon = 180)\n",
    "\n",
    "m.drawcoastlines()\n",
    "m.drawcountries(linewidth=2)\n",
    "m.drawstates(color='b')\n",
    "m.drawcounties(color='darkred')\n",
    "\n",
    "plt.title('Basemap Tutorial')\n",
    "plt.show()"
   ]
  },
  {
   "cell_type": "code",
   "execution_count": null,
   "metadata": {
    "collapsed": true
   },
   "outputs": [],
   "source": [
    "from mpl_toolkits.basemap import Basemap\n",
    "import matplotlib.pyplot as plt\n",
    "\n",
    "m = Basemap(projection='mill',\n",
    "            llcrnrlat = -90,\n",
    "            llcrnrlon = -180,\n",
    "            urcrnrlat = 90,\n",
    "            urcrnrlon = 180,\n",
    "            resolution='l')\n",
    "\n",
    "m.drawcoastlines()\n",
    "m.drawcountries(linewidth=2)\n",
    "##m.drawstates(color='b')\n",
    "##m.drawcounties(color='darkred')\n",
    "#m.fillcontinents()\n",
    "#m.etopo()\n",
    "m.bluemarble()\n",
    "\n",
    "plt.title('Basemap Tutorial')\n",
    "plt.show()"
   ]
  },
  {
   "cell_type": "code",
   "execution_count": null,
   "metadata": {
    "collapsed": true
   },
   "outputs": [],
   "source": [
    "from mpl_toolkits.basemap import Basemap\n",
    "import matplotlib.pyplot as plt\n",
    "\n",
    "m = Basemap(projection='mill',\n",
    "            llcrnrlat = -90,\n",
    "            llcrnrlon = -180,\n",
    "            urcrnrlat = 90,\n",
    "            urcrnrlon = 180,\n",
    "            resolution='l')\n",
    "\n",
    "m.drawcoastlines()\n",
    "m.drawcountries(linewidth=2)\n",
    "##m.drawstates(color='b')\n",
    "##m.drawcounties(color='darkred')\n",
    "#m.fillcontinents()\n",
    "m.etopo()\n",
    "#m.bluemarble()\n",
    "\n",
    "plt.title('Basemap Tutorial')\n",
    "plt.show()"
   ]
  },
  {
   "cell_type": "code",
   "execution_count": null,
   "metadata": {
    "collapsed": true
   },
   "outputs": [],
   "source": [
    "from mpl_toolkits.basemap import Basemap\n",
    "import matplotlib.pyplot as plt\n",
    "\n",
    "m = Basemap(projection='mill',\n",
    "            llcrnrlat = -90,\n",
    "            llcrnrlon = -180,\n",
    "            urcrnrlat = 90,\n",
    "            urcrnrlon = 180,\n",
    "            resolution='l')\n",
    "\n",
    "m.drawcoastlines()\n",
    "m.drawcountries(linewidth=2)\n",
    "##m.drawstates(color='b')\n",
    "##m.drawcounties(color='darkred')\n",
    "#m.fillcontinents()\n",
    "#m.etopo()\n",
    "m.bluemarble()\n",
    "\n",
    "plt.title('Basemap Tutorial')\n",
    "plt.show()"
   ]
  }
 ],
 "metadata": {
  "anaconda-cloud": {},
  "kernelspec": {
   "display_name": "Python [default]",
   "language": "python",
   "name": "python3"
  },
  "language_info": {
   "codemirror_mode": {
    "name": "ipython",
    "version": 3
   },
   "file_extension": ".py",
   "mimetype": "text/x-python",
   "name": "python",
   "nbconvert_exporter": "python",
   "pygments_lexer": "ipython3",
   "version": "3.5.2"
  }
 },
 "nbformat": 4,
 "nbformat_minor": 1
}
